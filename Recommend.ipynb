{
 "cells": [
  {
   "cell_type": "code",
   "execution_count": null,
   "metadata": {
    "collapsed": true
   },
   "outputs": [],
   "source": [
    "#Import necessary libraries\n",
    "from movielens import *\n",
    "import numpy as np\n",
    "from sklearn.metrics import mean_squared_error\n",
    "from sklearn.cluster import KMeans\n",
    "import sys\n",
    "import time\n",
    "import pickle"
   ]
  },
  {
   "cell_type": "code",
   "execution_count": null,
   "metadata": {
    "collapsed": true
   },
   "outputs": [],
   "source": [
    "user = []\n",
    "item = []\n",
    "rating = []\n",
    "rating_test = []\n",
    "# Load the movie lens dataset into arrays\n",
    "data = Dataset()\n",
    "data.load_ratings(\"data/u.base\", rating)\n",
    "data.load_users(\"data/u.user\", user)\n",
    "data.load_items(\"data/u.item\", item)\n",
    "data.load_ratings(\"data/u.test\", rating_test)\n",
    "n_users = len(user)\n",
    "n_items = len(item)\n"
   ]
  },
  {
   "cell_type": "code",
   "execution_count": null,
   "metadata": {
    "collapsed": true
   },
   "outputs": [],
   "source": [
    "utility = np.zeros((n_users, n_items))\n",
    "for r in rating:\n",
    "    utility[r.user_id-1][r.item_id-1] = r.rating\n",
    "\n",
    "# Finds the average rating for each user and stores it in the user's object\n",
    "for i in range(n_users):\n",
    "    rated = np.nonzero(utility[i])\n",
    "    n = len(rated[0])\n",
    "    if n != 0:\n",
    "        user[i].avg_r = np.mean(utility[i][rated])\n",
    "    else:\n",
    "        user[i].avg_r = 0.\n",
    "\n",
    "print utility"
   ]
  },
  {
   "cell_type": "code",
   "execution_count": null,
   "metadata": {
    "collapsed": true
   },
   "outputs": [],
   "source": [
    "test = np.zeros((n_users, n_items))\n",
    "for r in rating_test:\n",
    "    test[r.user_id - 1][r.item_id - 1] = r.rating"
   ]
  },
  {
   "cell_type": "code",
   "execution_count": null,
   "metadata": {
    "collapsed": true
   },
   "outputs": [],
   "source": [
    "movie_genre = []\n",
    "for movie in item:\n",
    "    movie_genre.append([movie.unknown, movie.action, movie.adventure, movie.animation, movie.childrens, movie.comedy,\n",
    "                        movie.crime, movie.documentary, movie.drama, movie.fantasy, movie.film_noir, movie.horror,\n",
    "                        movie.musical, movie.mystery, movie.romance, movie.sci_fi, movie.thriller, movie.war, movie.western])\n",
    "\n",
    "movie_genre = np.array(movie_genre)\n",
    "cluster = KMeans(n_clusters=19)\n",
    "cluster.fit_predict(movie_genre)"
   ]
  },
  {
   "cell_type": "code",
   "execution_count": null,
   "metadata": {
    "collapsed": true
   },
   "outputs": [],
   "source": [
    "uc = []\n",
    "for i in range(0, n_users):\n",
    "    average = np.zeros(19)\n",
    "    tmp = []\n",
    "    for m in range(0, 19):\n",
    "        tmp.append([])\n",
    "    for j in range(0, n_items):\n",
    "        if utility[i][j] != 0:\n",
    "            tmp[cluster.labels_[j] - 1].append(utility[i][j])\n",
    "    for m in range(0, 19):\n",
    "        if len(tmp[m]) != 0:\n",
    "            average[m] = np.mean(tmp[m])\n",
    "        else:\n",
    "            average[m] = 0\n",
    "    uc.append(average)\n",
    "\n",
    "uc = np.array(uc)"
   ]
  },
  {
   "cell_type": "code",
   "execution_count": null,
   "metadata": {
    "collapsed": true
   },
   "outputs": [],
   "source": [
    "for i in range(0, n_users):\n",
    "    x = uc[i]\n",
    "    user[i].avg_r = sum(a for a in x if a > 0) / sum(a > 0 for a in x)"
   ]
  },
  {
   "cell_type": "code",
   "execution_count": null,
   "metadata": {
    "collapsed": true
   },
   "outputs": [],
   "source": [
    "def pcs(x, y):\n",
    "    num = 0\n",
    "    den1 = 0\n",
    "    den2 = 0\n",
    "    A = uc[x - 1]\n",
    "    B = uc[y - 1]\n",
    "    num = sum((a - user[x - 1].avg_r) * (b - user[y - 1].avg_r) for a, b in zip(A, B) if a > 0 and b > 0)\n",
    "    den1 = sum((a - user[x - 1].avg_r) ** 2 for a in A if a > 0)\n",
    "    den2 = sum((b - user[y - 1].avg_r) ** 2 for b in B if b > 0)\n",
    "    den = (den1 ** 0.5) * (den2 ** 0.5)\n",
    "    if den == 0:\n",
    "        return 0\n",
    "    else:\n",
    "        return num / den"
   ]
  },
  {
   "cell_type": "code",
   "execution_count": null,
   "metadata": {
    "collapsed": true
   },
   "outputs": [],
   "source": [
    "pcsmat = np.zeros((n_users, n_users))\n",
    "for i in range(0, n_users):\n",
    "    for j in range(0, n_users):\n",
    "        if i!=j:\n",
    "            pcsmat[i][j] = pcs(i + 1, j + 1)\n",
    "            sys.stdout.write(\"\\rGenerating Similarity Matrix [%d:%d] = %f\" % (i+1, j+1, pcsmat[i][j]))\n",
    "            sys.stdout.flush()\n",
    "            time.sleep(0.00005)\n",
    "print \"\\rGenerating Similarity Matrix [%d:%d] = %f\" % (i+1, j+1, pcsmat[i][j])\n",
    "\n",
    "print pcsmat"
   ]
  },
  {
   "cell_type": "code",
   "execution_count": null,
   "metadata": {
    "collapsed": true
   },
   "outputs": [],
   "source": [
    "# Guesses the ratings that user with id, user_id, might give to item with id, i_id.\n",
    "# We will consider the top_n similar users to do this.\n",
    "def norm():\n",
    "    normalize = np.zeros((n_users, 19))\n",
    "    for i in range(0, n_users):\n",
    "        for j in range(0, 19):\n",
    "            if uc[i][j] != 0:\n",
    "                normalize[i][j] = uc[i][j] - user[i].avg_r\n",
    "            else:\n",
    "                normalize[i][j] = float('Inf')\n",
    "    return normalize"
   ]
  },
  {
   "cell_type": "code",
   "execution_count": null,
   "metadata": {
    "collapsed": true
   },
   "outputs": [],
   "source": [
    "def guess(user_id, i_id, top_n):\n",
    "    similarity = []\n",
    "    for i in range(0, n_users):\n",
    "        if i+1 != user_id:\n",
    "            similarity.append(pcsmat[user_id-1][i])\n",
    "    temp = norm()\n",
    "    temp = np.delete(temp, user_id-1, 0)\n",
    "    top = [x for (y,x) in sorted(zip(similarity,temp), key=lambda pair: pair[0], reverse=True)]\n",
    "    s = 0\n",
    "    c = 0\n",
    "    for i in range(0, top_n):\n",
    "        if top[i][i_id-1] != float('Inf'):\n",
    "            s += top[i][i_id-1]\n",
    "            c += 1\n",
    "    g = user[user_id-1].avg_r if c == 0 else s/float(c) + user[user_id-1].avg_r\n",
    "    if g < 1.0:\n",
    "        return 1.0\n",
    "    elif g > 5.0:\n",
    "        return 5.0\n",
    "    else:\n",
    "        return g"
   ]
  },
  {
   "cell_type": "code",
   "execution_count": null,
   "metadata": {
    "collapsed": true
   },
   "outputs": [],
   "source": [
    "utility_copy = np.copy(uc)\n",
    "for i in range(0, n_users):\n",
    "    for j in range(0, 19):\n",
    "        if utility_copy[i][j] == 0:\n",
    "            sys.stdout.write(\"\\rGuessing [User:Rating] = [%d:%d]\" % (i, j))\n",
    "            sys.stdout.flush()\n",
    "            time.sleep(0.00005)\n",
    "            utility_copy[i][j] = guess(i+1, j+1, 150)\n",
    "print \"\\rGuessing [User:Rating] = [%d:%d]\" % (i, j)"
   ]
  },
  {
   "cell_type": "code",
   "execution_count": null,
   "metadata": {
    "collapsed": true
   },
   "outputs": [],
   "source": [
    "pickle.dump( utility_copy, open(\"utility_matrix.pkl\", \"wb\"))"
   ]
  },
  {
   "cell_type": "code",
   "execution_count": 18,
   "metadata": {},
   "outputs": [
    {
     "name": "stdout",
     "output_type": "stream",
     "text": [
      "Mean Squared Error: 1.255988\n"
     ]
    }
   ],
   "source": [
    "# Predict ratings for u.test and find the mean squared error\n",
    "y_true = []\n",
    "y_pred = []\n",
    "f = open('test.txt', 'w')\n",
    "for i in range(0, n_users):\n",
    "    for j in range(0, n_items):\n",
    "        if test[i][j] > 0:\n",
    "            f.write(\"%d, %d, %.4f\\n\" % (i+1, j+1, utility_copy[i][cluster.labels_[j]-1]))\n",
    "            y_true.append(test[i][j])\n",
    "            y_pred.append(utility_copy[i][cluster.labels_[j]-1])\n",
    "f.close()\n",
    "\n",
    "print \"Mean Squared Error: %f\" % mean_squared_error(y_true, y_pred)\n"
   ]
  }
 ],
 "metadata": {
  "kernelspec": {
   "display_name": "Python 2",
   "language": "python",
   "name": "python2"
  },
  "language_info": {
   "codemirror_mode": {
    "name": "ipython",
    "version": 2
   },
   "file_extension": ".py",
   "mimetype": "text/x-python",
   "name": "python",
   "nbconvert_exporter": "python",
   "pygments_lexer": "ipython2",
   "version": "2.7.13"
  }
 },
 "nbformat": 4,
 "nbformat_minor": 1
}
